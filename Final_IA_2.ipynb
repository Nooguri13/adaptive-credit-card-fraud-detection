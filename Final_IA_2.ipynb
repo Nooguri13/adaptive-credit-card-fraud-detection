{
  "nbformat": 4,
  "nbformat_minor": 0,
  "metadata": {
    "colab": {
      "provenance": []
    },
    "kernelspec": {
      "name": "python3",
      "display_name": "Python 3"
    },
    "language_info": {
      "name": "python"
    }
  },
  "cells": [
    {
      "cell_type": "code",
      "execution_count": 1,
      "metadata": {
        "colab": {
          "base_uri": "https://localhost:8080/"
        },
        "id": "msIk6ntySt0S",
        "outputId": "f4ae2bb1-b385-43fb-889a-e09b8c773a03"
      },
      "outputs": [
        {
          "output_type": "stream",
          "name": "stdout",
          "text": [
            "<class 'pandas.core.frame.DataFrame'>\n",
            "RangeIndex: 49610 entries, 0 to 49609\n",
            "Data columns (total 31 columns):\n",
            " #   Column  Non-Null Count  Dtype  \n",
            "---  ------  --------------  -----  \n",
            " 0   Time    49610 non-null  int64  \n",
            " 1   V1      49610 non-null  float64\n",
            " 2   V2      49610 non-null  float64\n",
            " 3   V3      49610 non-null  float64\n",
            " 4   V4      49609 non-null  float64\n",
            " 5   V5      49609 non-null  float64\n",
            " 6   V6      49609 non-null  float64\n",
            " 7   V7      49609 non-null  float64\n",
            " 8   V8      49609 non-null  float64\n",
            " 9   V9      49609 non-null  float64\n",
            " 10  V10     49609 non-null  float64\n",
            " 11  V11     49609 non-null  float64\n",
            " 12  V12     49609 non-null  float64\n",
            " 13  V13     49609 non-null  float64\n",
            " 14  V14     49609 non-null  float64\n",
            " 15  V15     49609 non-null  float64\n",
            " 16  V16     49609 non-null  float64\n",
            " 17  V17     49609 non-null  float64\n",
            " 18  V18     49609 non-null  float64\n",
            " 19  V19     49609 non-null  float64\n",
            " 20  V20     49609 non-null  float64\n",
            " 21  V21     49609 non-null  float64\n",
            " 22  V22     49609 non-null  float64\n",
            " 23  V23     49609 non-null  float64\n",
            " 24  V24     49609 non-null  float64\n",
            " 25  V25     49609 non-null  float64\n",
            " 26  V26     49609 non-null  float64\n",
            " 27  V27     49609 non-null  float64\n",
            " 28  V28     49609 non-null  float64\n",
            " 29  Amount  49609 non-null  float64\n",
            " 30  Class   49609 non-null  float64\n",
            "dtypes: float64(30), int64(1)\n",
            "memory usage: 11.7 MB\n",
            "None\n",
            "   Time        V1        V2        V3        V4        V5        V6        V7  \\\n",
            "0     0 -1.359807 -0.072781  2.536347  1.378155 -0.338321  0.462388  0.239599   \n",
            "1     0  1.191857  0.266151  0.166480  0.448154  0.060018 -0.082361 -0.078803   \n",
            "2     1 -1.358354 -1.340163  1.773209  0.379780 -0.503198  1.800499  0.791461   \n",
            "3     1 -0.966272 -0.185226  1.792993 -0.863291 -0.010309  1.247203  0.237609   \n",
            "4     2 -1.158233  0.877737  1.548718  0.403034 -0.407193  0.095921  0.592941   \n",
            "\n",
            "         V8        V9  ...       V21       V22       V23       V24       V25  \\\n",
            "0  0.098698  0.363787  ... -0.018307  0.277838 -0.110474  0.066928  0.128539   \n",
            "1  0.085102 -0.255425  ... -0.225775 -0.638672  0.101288 -0.339846  0.167170   \n",
            "2  0.247676 -1.514654  ...  0.247998  0.771679  0.909412 -0.689281 -0.327642   \n",
            "3  0.377436 -1.387024  ... -0.108300  0.005274 -0.190321 -1.175575  0.647376   \n",
            "4 -0.270533  0.817739  ... -0.009431  0.798278 -0.137458  0.141267 -0.206010   \n",
            "\n",
            "        V26       V27       V28  Amount  Class  \n",
            "0 -0.189115  0.133558 -0.021053  149.62    0.0  \n",
            "1  0.125895 -0.008983  0.014724    2.69    0.0  \n",
            "2 -0.139097 -0.055353 -0.059752  378.66    0.0  \n",
            "3 -0.221929  0.062723  0.061458  123.50    0.0  \n",
            "4  0.502292  0.219422  0.215153   69.99    0.0  \n",
            "\n",
            "[5 rows x 31 columns]\n",
            "               Time            V1            V2            V3            V4  \\\n",
            "count  49610.000000  49610.000000  49610.000000  49610.000000  49609.000000   \n",
            "mean   28803.556239     -0.242569      0.012235      0.693009      0.185186   \n",
            "std    13097.468525      1.885867      1.630704      1.510559      1.400175   \n",
            "min        0.000000    -56.407510    -72.715728    -32.965346     -5.172595   \n",
            "25%    21734.250000     -0.992845     -0.562967      0.217605     -0.720957   \n",
            "50%    33390.000000     -0.247223      0.079282      0.797007      0.190288   \n",
            "75%    38852.750000      1.155638      0.732318      1.431013      1.067346   \n",
            "max    44135.000000      1.960497     18.183626      4.101716     16.491217   \n",
            "\n",
            "                 V5            V6            V7            V8            V9  \\\n",
            "count  49609.000000  49609.000000  49609.000000  49609.000000  49609.000000   \n",
            "mean      -0.257016      0.104114     -0.120255      0.053442      0.123490   \n",
            "std        1.413057      1.310705      1.283507      1.224245      1.213441   \n",
            "min      -42.147898    -26.160506    -26.548144    -41.484823     -9.283925   \n",
            "25%       -0.866471     -0.635669     -0.605928     -0.146749     -0.611499   \n",
            "50%       -0.287810     -0.150940     -0.076595      0.058406      0.012150   \n",
            "75%        0.283513      0.493918      0.424969      0.331555      0.819242   \n",
            "max       34.801666     22.529298     36.677268     20.007208     10.392889   \n",
            "\n",
            "       ...           V21           V22           V23           V24  \\\n",
            "count  ...  49609.000000  49609.000000  49609.000000  49609.000000   \n",
            "mean   ...     -0.028396     -0.107154     -0.040123      0.007997   \n",
            "std    ...      0.736050      0.637733      0.590810      0.594121   \n",
            "min    ...    -20.262054     -8.593642    -26.751119     -2.836627   \n",
            "25%    ...     -0.231664     -0.529531     -0.179110     -0.322243   \n",
            "50%    ...     -0.068396     -0.082137     -0.051560      0.061999   \n",
            "75%    ...      0.108082      0.307262      0.078474      0.401392   \n",
            "max    ...     22.614889      5.805795     17.297845      4.014444   \n",
            "\n",
            "                V25           V26           V27           V28        Amount  \\\n",
            "count  49609.000000  49609.000000  49609.000000  49609.000000  49609.000000   \n",
            "mean       0.135954      0.020813      0.004792      0.004533     93.120688   \n",
            "std        0.439067      0.501438      0.388364      0.333225    253.265971   \n",
            "min       -7.495741     -1.577118     -8.567638     -9.617915      0.000000   \n",
            "25%       -0.127983     -0.330532     -0.063339     -0.006675      7.610000   \n",
            "50%        0.175766     -0.071826      0.008986      0.022155     25.000000   \n",
            "75%        0.421960      0.300180      0.083910      0.076342     85.000000   \n",
            "max        5.525093      3.517346     11.135740     33.847808  12910.930000   \n",
            "\n",
            "              Class  \n",
            "count  49609.000000  \n",
            "mean       0.002983  \n",
            "std        0.054539  \n",
            "min        0.000000  \n",
            "25%        0.000000  \n",
            "50%        0.000000  \n",
            "75%        0.000000  \n",
            "max        1.000000  \n",
            "\n",
            "[8 rows x 31 columns]\n"
          ]
        }
      ],
      "source": [
        "import pandas as pd\n",
        "\n",
        "# Step 1: Load the dataset\n",
        "file_path = 'creditcard.csv'\n",
        "df = pd.read_csv(file_path)\n",
        "\n",
        "# Step 2: Show basic info about the dataset\n",
        "print(df.info())\n",
        "print(df.head())\n",
        "print(df.describe())\n"
      ]
    },
    {
      "cell_type": "code",
      "source": [
        "import matplotlib.pyplot as plt\n",
        "import seaborn as sns\n",
        "\n",
        "# Check for missing values\n",
        "print(\"Missing values:\\n\", df.isnull().sum())\n",
        "\n",
        "# Check class distribution\n",
        "print(\"Class distribution:\\n\", df['Class'].value_counts())\n",
        "\n",
        "# Plot class distribution\n",
        "plt.figure(figsize=(6,4))\n",
        "sns.countplot(x='Class', data=df)\n",
        "plt.title('Class Distribution (0 = Legit, 1 = Fraud)')\n",
        "plt.show()\n",
        "\n",
        "# Plot correlations (optional heavy computation)\n",
        "plt.figure(figsize=(12,10))\n",
        "sns.heatmap(df.corr(), cmap='coolwarm', linewidths=0.5)\n",
        "plt.title('Correlation Matrix')\n",
        "plt.show()\n"
      ],
      "metadata": {
        "colab": {
          "base_uri": "https://localhost:8080/",
          "height": 1000
        },
        "id": "hyFVjarVS6T3",
        "outputId": "94e93eca-af83-495f-bd34-a71f9df18bb7"
      },
      "execution_count": 2,
      "outputs": [
        {
          "output_type": "stream",
          "name": "stdout",
          "text": [
            "Missing values:\n",
            " Time      0\n",
            "V1        0\n",
            "V2        0\n",
            "V3        0\n",
            "V4        1\n",
            "V5        1\n",
            "V6        1\n",
            "V7        1\n",
            "V8        1\n",
            "V9        1\n",
            "V10       1\n",
            "V11       1\n",
            "V12       1\n",
            "V13       1\n",
            "V14       1\n",
            "V15       1\n",
            "V16       1\n",
            "V17       1\n",
            "V18       1\n",
            "V19       1\n",
            "V20       1\n",
            "V21       1\n",
            "V22       1\n",
            "V23       1\n",
            "V24       1\n",
            "V25       1\n",
            "V26       1\n",
            "V27       1\n",
            "V28       1\n",
            "Amount    1\n",
            "Class     1\n",
            "dtype: int64\n",
            "Class distribution:\n",
            " Class\n",
            "0.0    49461\n",
            "1.0      148\n",
            "Name: count, dtype: int64\n"
          ]
        },
        {
          "output_type": "display_data",
          "data": {
            "text/plain": [
              "<Figure size 600x400 with 1 Axes>"
            ],
            "image/png": "[encoded data removed]"
          },
          "metadata": {}
        },
        {
          "output_type": "display_data",
          "data": {
            "text/plain": [
              "<Figure size 1200x1000 with 2 Axes>"
            ],
            "image/png": "[encoded data removed]"
          },
          "metadata": {}
        }
      ]
    },
    {
      "cell_type": "code",
      "source": [
        "from imblearn.over_sampling import SMOTE\n",
        "from sklearn.model_selection import train_test_split\n",
        "\n",
        "# Step 1: Drop any rows with NaN values (just in case)\n",
        "df_cleaned = df.dropna()\n",
        "\n",
        "# Step 2: Separate features and target\n",
        "X = df_cleaned.drop('Class', axis=1)\n",
        "y = df_cleaned['Class']\n",
        "\n",
        "# Step 3: Train-test split\n",
        "X_train, X_test, y_train, y_test = train_test_split(X, y, test_size=0.2, random_state=42)\n",
        "\n",
        "# Step 4: SMOTE to balance the training set\n",
        "smote = SMOTE(random_state=42)\n",
        "X_train_resampled, y_train_resampled = smote.fit_resample(X_train, y_train)\n",
        "\n",
        "# Step 5: Confirm new balance\n",
        "print(\"After SMOTE, class distribution:\\n\", pd.Series(y_train_resampled).value_counts())\n"
      ],
      "metadata": {
        "colab": {
          "base_uri": "https://localhost:8080/"
        },
        "id": "vldM9-uTS9V-",
        "outputId": "2eeea6af-f37e-4d78-88d0-86fb22a4816c"
      },
      "execution_count": 3,
      "outputs": [
        {
          "output_type": "stream",
          "name": "stdout",
          "text": [
            "After SMOTE, class distribution:\n",
            " Class\n",
            "0.0    39572\n",
            "1.0    39572\n",
            "Name: count, dtype: int64\n"
          ]
        }
      ]
    },
    {
      "cell_type": "code",
      "source": [
        "from sklearn.cluster import KMeans\n",
        "from sklearn.decomposition import PCA\n",
        "from sklearn.metrics import roc_auc_score\n",
        "\n",
        "# Reduce dimensionality for clustering\n",
        "from sklearn.preprocessing import StandardScaler\n",
        "scaler = StandardScaler()\n",
        "X_scaled = scaler.fit_transform(X)\n",
        "\n",
        "pca = PCA(n_components=10)\n",
        "X_pca = pca.fit_transform(X_scaled)\n",
        "\n",
        "# Fit KMeans\n",
        "kmeans = KMeans(n_clusters=2, random_state=42)\n",
        "kmeans.fit(X_pca)\n",
        "y_pred_kmeans = kmeans.labels_\n",
        "\n",
        "# Map clusters to binary class (choose the mapping that gives higher AUC)\n",
        "auc1 = roc_auc_score(y, y_pred_kmeans)\n",
        "auc2 = roc_auc_score(y, 1 - y_pred_kmeans)\n",
        "\n",
        "final_preds = y_pred_kmeans if auc1 > auc2 else 1 - y_pred_kmeans\n",
        "\n",
        "print(\"📌 KMeans Clustering (k=2)\")\n",
        "print(\"ROC AUC Score:\", max(auc1, auc2))\n"
      ],
      "metadata": {
        "colab": {
          "base_uri": "https://localhost:8080/"
        },
        "id": "U30siZ7fTI_k",
        "outputId": "989a4b26-e3a8-4397-e271-d8af320aeaaa"
      },
      "execution_count": 4,
      "outputs": [
        {
          "output_type": "stream",
          "name": "stdout",
          "text": [
            "📌 KMeans Clustering (k=2)\n",
            "ROC AUC Score: 0.5045926848180139\n"
          ]
        }
      ]
    },
    {
      "cell_type": "code",
      "source": [
        "from sklearn.mixture import GaussianMixture\n",
        "\n",
        "gmm = GaussianMixture(n_components=2, random_state=42)\n",
        "gmm.fit(X_pca)\n",
        "y_pred_gmm = gmm.predict(X_pca)\n",
        "\n",
        "auc1 = roc_auc_score(y, y_pred_gmm)\n",
        "auc2 = roc_auc_score(y, 1 - y_pred_gmm)\n",
        "final_preds_gmm = y_pred_gmm if auc1 > auc2 else 1 - y_pred_gmm\n",
        "\n",
        "print(\"📌 GMM\")\n",
        "print(\"ROC AUC Score:\", max(auc1, auc2))\n"
      ],
      "metadata": {
        "colab": {
          "base_uri": "https://localhost:8080/"
        },
        "id": "CJG3SqXqTMG7",
        "outputId": "ed331916-27f4-406c-c826-ab103e0b9a5b"
      },
      "execution_count": 5,
      "outputs": [
        {
          "output_type": "stream",
          "name": "stdout",
          "text": [
            "📌 GMM\n",
            "ROC AUC Score: 0.9064275730209495\n"
          ]
        }
      ]
    },
    {
      "cell_type": "code",
      "source": [
        "from sklearn.ensemble import IsolationForest\n",
        "\n",
        "iso = IsolationForest(contamination=0.0017, random_state=42)\n",
        "iso.fit(X)\n",
        "y_pred_iso = iso.predict(X)\n",
        "y_pred_iso_binary = (y_pred_iso == -1).astype(int)\n",
        "\n",
        "print(\"📌 Isolation Forest\")\n",
        "print(\"ROC AUC Score:\", roc_auc_score(y, y_pred_iso_binary))\n"
      ],
      "metadata": {
        "colab": {
          "base_uri": "https://localhost:8080/"
        },
        "id": "bIpftrx5TN_D",
        "outputId": "2d9005a5-193b-4141-9d33-c96d7b8eb482"
      },
      "execution_count": 6,
      "outputs": [
        {
          "output_type": "stream",
          "name": "stdout",
          "text": [
            "📌 Isolation Forest\n",
            "ROC AUC Score: 0.6787305668621251\n"
          ]
        }
      ]
    },
    {
      "cell_type": "code",
      "source": [
        "from sklearn.neighbors import LocalOutlierFactor\n",
        "\n",
        "lof = LocalOutlierFactor(n_neighbors=20, contamination=0.0017, novelty=True)\n",
        "lof.fit(X)\n",
        "y_pred_lof = lof.predict(X)\n",
        "y_pred_lof_binary = (y_pred_lof == -1).astype(int)\n",
        "\n",
        "print(\"📌 Local Outlier Factor\")\n",
        "print(\"ROC AUC Score:\", roc_auc_score(y, y_pred_lof_binary))\n"
      ],
      "metadata": {
        "colab": {
          "base_uri": "https://localhost:8080/"
        },
        "id": "pIbeqnsfTRSq",
        "outputId": "e81fb524-fbe1-4535-8131-379083132502"
      },
      "execution_count": 7,
      "outputs": [
        {
          "output_type": "stream",
          "name": "stderr",
          "text": [
            "/usr/local/lib/python3.11/dist-packages/sklearn/utils/validation.py:2739: UserWarning: X does not have valid feature names, but LocalOutlierFactor was fitted with feature names\n",
            "  warnings.warn(\n"
          ]
        },
        {
          "output_type": "stream",
          "name": "stdout",
          "text": [
            "📌 Local Outlier Factor\n",
            "ROC AUC Score: 0.5332277901726558\n"
          ]
        }
      ]
    },
    {
      "cell_type": "code",
      "source": [
        "from sklearn.covariance import EllipticEnvelope\n",
        "\n",
        "env = EllipticEnvelope(contamination=0.0017)\n",
        "env.fit(X)\n",
        "y_pred_env = env.predict(X)\n",
        "y_pred_env_binary = (y_pred_env == -1).astype(int)\n",
        "\n",
        "print(\"📌 Elliptic Envelope\")\n",
        "print(\"ROC AUC Score:\", roc_auc_score(y, y_pred_env_binary))\n"
      ],
      "metadata": {
        "colab": {
          "base_uri": "https://localhost:8080/"
        },
        "id": "hKE6ps3xTTW8",
        "outputId": "8ecd0d80-cf9a-4dc0-abb6-90cb1885e057"
      },
      "execution_count": 8,
      "outputs": [
        {
          "output_type": "stream",
          "name": "stderr",
          "text": [
            "/usr/local/lib/python3.11/dist-packages/sklearn/covariance/_robust_covariance.py:185: RuntimeWarning: Determinant has increased; this should not happen: log(det) > log(previous_det) (-294.049178741662445 > -294.391047679826613). You may want to try with a higher value of support_fraction (current value: 0.501).\n",
            "  warnings.warn(\n",
            "/usr/local/lib/python3.11/dist-packages/sklearn/covariance/_robust_covariance.py:185: RuntimeWarning: Determinant has increased; this should not happen: log(det) > log(previous_det) (-238.505428824991213 > -266.958632088382103). You may want to try with a higher value of support_fraction (current value: 0.501).\n",
            "  warnings.warn(\n",
            "/usr/local/lib/python3.11/dist-packages/sklearn/covariance/_robust_covariance.py:185: RuntimeWarning: Determinant has increased; this should not happen: log(det) > log(previous_det) (-128.960653462839957 > -135.408076155661405). You may want to try with a higher value of support_fraction (current value: 0.501).\n",
            "  warnings.warn(\n",
            "/usr/local/lib/python3.11/dist-packages/sklearn/covariance/_robust_covariance.py:185: RuntimeWarning: Determinant has increased; this should not happen: log(det) > log(previous_det) (-207.069482922799921 > -210.627640463313668). You may want to try with a higher value of support_fraction (current value: 0.501).\n",
            "  warnings.warn(\n",
            "/usr/local/lib/python3.11/dist-packages/sklearn/covariance/_robust_covariance.py:185: RuntimeWarning: Determinant has increased; this should not happen: log(det) > log(previous_det) (-179.856366573682493 > -181.013431186337158). You may want to try with a higher value of support_fraction (current value: 0.501).\n",
            "  warnings.warn(\n",
            "/usr/local/lib/python3.11/dist-packages/sklearn/covariance/_robust_covariance.py:185: RuntimeWarning: Determinant has increased; this should not happen: log(det) > log(previous_det) (-206.943313159837004 > -208.768703302508925). You may want to try with a higher value of support_fraction (current value: 0.501).\n",
            "  warnings.warn(\n",
            "/usr/local/lib/python3.11/dist-packages/sklearn/covariance/_robust_covariance.py:185: RuntimeWarning: Determinant has increased; this should not happen: log(det) > log(previous_det) (-326.739645489056898 > -355.783994059172869). You may want to try with a higher value of support_fraction (current value: 0.501).\n",
            "  warnings.warn(\n",
            "/usr/local/lib/python3.11/dist-packages/sklearn/covariance/_robust_covariance.py:185: RuntimeWarning: Determinant has increased; this should not happen: log(det) > log(previous_det) (-112.233227318211192 > -113.072138200792836). You may want to try with a higher value of support_fraction (current value: 0.501).\n",
            "  warnings.warn(\n",
            "/usr/local/lib/python3.11/dist-packages/sklearn/covariance/_robust_covariance.py:185: RuntimeWarning: Determinant has increased; this should not happen: log(det) > log(previous_det) (-120.622526940480299 > -230.810838917987439). You may want to try with a higher value of support_fraction (current value: 0.501).\n",
            "  warnings.warn(\n",
            "/usr/local/lib/python3.11/dist-packages/sklearn/covariance/_robust_covariance.py:185: RuntimeWarning: Determinant has increased; this should not happen: log(det) > log(previous_det) (-241.839092398211108 > -263.470319746875020). You may want to try with a higher value of support_fraction (current value: 0.501).\n",
            "  warnings.warn(\n",
            "/usr/local/lib/python3.11/dist-packages/sklearn/covariance/_robust_covariance.py:185: RuntimeWarning: Determinant has increased; this should not happen: log(det) > log(previous_det) (-321.261284349879077 > -326.030585819472208). You may want to try with a higher value of support_fraction (current value: 0.501).\n",
            "  warnings.warn(\n",
            "/usr/local/lib/python3.11/dist-packages/sklearn/covariance/_robust_covariance.py:185: RuntimeWarning: Determinant has increased; this should not happen: log(det) > log(previous_det) (-287.207587558187413 > -303.973496101980459). You may want to try with a higher value of support_fraction (current value: 0.501).\n",
            "  warnings.warn(\n",
            "/usr/local/lib/python3.11/dist-packages/sklearn/covariance/_robust_covariance.py:185: RuntimeWarning: Determinant has increased; this should not happen: log(det) > log(previous_det) (-174.284216442904665 > -287.326568523531080). You may want to try with a higher value of support_fraction (current value: 0.501).\n",
            "  warnings.warn(\n",
            "/usr/local/lib/python3.11/dist-packages/sklearn/covariance/_robust_covariance.py:185: RuntimeWarning: Determinant has increased; this should not happen: log(det) > log(previous_det) (-180.790164735026025 > -211.444941790614223). You may want to try with a higher value of support_fraction (current value: 0.501).\n",
            "  warnings.warn(\n",
            "/usr/local/lib/python3.11/dist-packages/sklearn/covariance/_robust_covariance.py:185: RuntimeWarning: Determinant has increased; this should not happen: log(det) > log(previous_det) (-273.848126712711633 > -296.310614739155767). You may want to try with a higher value of support_fraction (current value: 0.501).\n",
            "  warnings.warn(\n",
            "/usr/local/lib/python3.11/dist-packages/sklearn/covariance/_robust_covariance.py:185: RuntimeWarning: Determinant has increased; this should not happen: log(det) > log(previous_det) (-273.848126712711633 > -293.941403531267724). You may want to try with a higher value of support_fraction (current value: 0.501).\n",
            "  warnings.warn(\n",
            "/usr/local/lib/python3.11/dist-packages/sklearn/covariance/_robust_covariance.py:185: RuntimeWarning: Determinant has increased; this should not happen: log(det) > log(previous_det) (-131.264632777950055 > -133.033544019922516). You may want to try with a higher value of support_fraction (current value: 0.501).\n",
            "  warnings.warn(\n",
            "/usr/local/lib/python3.11/dist-packages/sklearn/covariance/_robust_covariance.py:185: RuntimeWarning: Determinant has increased; this should not happen: log(det) > log(previous_det) (-139.774745707987336 > -143.087655464333096). You may want to try with a higher value of support_fraction (current value: 0.501).\n",
            "  warnings.warn(\n",
            "/usr/local/lib/python3.11/dist-packages/sklearn/covariance/_robust_covariance.py:185: RuntimeWarning: Determinant has increased; this should not happen: log(det) > log(previous_det) (-177.097130246882728 > -179.670777866981354). You may want to try with a higher value of support_fraction (current value: 0.501).\n",
            "  warnings.warn(\n",
            "/usr/local/lib/python3.11/dist-packages/sklearn/covariance/_robust_covariance.py:185: RuntimeWarning: Determinant has increased; this should not happen: log(det) > log(previous_det) (-193.390357301498227 > -195.505501903092465). You may want to try with a higher value of support_fraction (current value: 0.501).\n",
            "  warnings.warn(\n",
            "/usr/local/lib/python3.11/dist-packages/sklearn/covariance/_robust_covariance.py:185: RuntimeWarning: Determinant has increased; this should not happen: log(det) > log(previous_det) (-295.402624811923943 > -384.818555302389541). You may want to try with a higher value of support_fraction (current value: 0.501).\n",
            "  warnings.warn(\n",
            "/usr/local/lib/python3.11/dist-packages/sklearn/covariance/_robust_covariance.py:185: RuntimeWarning: Determinant has increased; this should not happen: log(det) > log(previous_det) (-141.308780284759649 > -142.929353536670646). You may want to try with a higher value of support_fraction (current value: 0.501).\n",
            "  warnings.warn(\n",
            "/usr/local/lib/python3.11/dist-packages/sklearn/covariance/_robust_covariance.py:185: RuntimeWarning: Determinant has increased; this should not happen: log(det) > log(previous_det) (-222.014336612586703 > -251.531229566069669). You may want to try with a higher value of support_fraction (current value: 0.501).\n",
            "  warnings.warn(\n",
            "/usr/local/lib/python3.11/dist-packages/sklearn/covariance/_robust_covariance.py:185: RuntimeWarning: Determinant has increased; this should not happen: log(det) > log(previous_det) (-258.022983683048494 > -284.117520606136623). You may want to try with a higher value of support_fraction (current value: 0.501).\n",
            "  warnings.warn(\n",
            "/usr/local/lib/python3.11/dist-packages/sklearn/covariance/_robust_covariance.py:185: RuntimeWarning: Determinant has increased; this should not happen: log(det) > log(previous_det) (-224.062877681443297 > -282.198323051231455). You may want to try with a higher value of support_fraction (current value: 0.501).\n",
            "  warnings.warn(\n",
            "/usr/local/lib/python3.11/dist-packages/sklearn/covariance/_robust_covariance.py:185: RuntimeWarning: Determinant has increased; this should not happen: log(det) > log(previous_det) (-262.334917936599254 > -289.854329240388552). You may want to try with a higher value of support_fraction (current value: 0.501).\n",
            "  warnings.warn(\n",
            "/usr/local/lib/python3.11/dist-packages/sklearn/covariance/_robust_covariance.py:185: RuntimeWarning: Determinant has increased; this should not happen: log(det) > log(previous_det) (-152.734254434889976 > -284.253579799632178). You may want to try with a higher value of support_fraction (current value: 0.501).\n",
            "  warnings.warn(\n",
            "/usr/local/lib/python3.11/dist-packages/sklearn/covariance/_robust_covariance.py:185: RuntimeWarning: Determinant has increased; this should not happen: log(det) > log(previous_det) (-259.340720953822029 > -291.782091078702933). You may want to try with a higher value of support_fraction (current value: 0.501).\n",
            "  warnings.warn(\n",
            "/usr/local/lib/python3.11/dist-packages/sklearn/covariance/_robust_covariance.py:185: RuntimeWarning: Determinant has increased; this should not happen: log(det) > log(previous_det) (-319.864648945153021 > -355.273744042162093). You may want to try with a higher value of support_fraction (current value: 0.501).\n",
            "  warnings.warn(\n",
            "/usr/local/lib/python3.11/dist-packages/sklearn/covariance/_robust_covariance.py:185: RuntimeWarning: Determinant has increased; this should not happen: log(det) > log(previous_det) (-193.302800751918994 > -226.839793978001467). You may want to try with a higher value of support_fraction (current value: 0.501).\n",
            "  warnings.warn(\n",
            "/usr/local/lib/python3.11/dist-packages/sklearn/covariance/_robust_covariance.py:185: RuntimeWarning: Determinant has increased; this should not happen: log(det) > log(previous_det) (-144.755211908341522 > -253.719832426094655). You may want to try with a higher value of support_fraction (current value: 0.501).\n",
            "  warnings.warn(\n",
            "/usr/local/lib/python3.11/dist-packages/sklearn/covariance/_robust_covariance.py:185: RuntimeWarning: Determinant has increased; this should not happen: log(det) > log(previous_det) (-260.135092057938778 > -291.660920252368101). You may want to try with a higher value of support_fraction (current value: 0.501).\n",
            "  warnings.warn(\n",
            "/usr/local/lib/python3.11/dist-packages/sklearn/covariance/_robust_covariance.py:185: RuntimeWarning: Determinant has increased; this should not happen: log(det) > log(previous_det) (-293.850787576991593 > -350.685748055402200). You may want to try with a higher value of support_fraction (current value: 0.501).\n",
            "  warnings.warn(\n",
            "/usr/local/lib/python3.11/dist-packages/sklearn/covariance/_robust_covariance.py:185: RuntimeWarning: Determinant has increased; this should not happen: log(det) > log(previous_det) (-154.765779460396431 > -203.216035394841896). You may want to try with a higher value of support_fraction (current value: 0.501).\n",
            "  warnings.warn(\n",
            "/usr/local/lib/python3.11/dist-packages/sklearn/covariance/_robust_covariance.py:185: RuntimeWarning: Determinant has increased; this should not happen: log(det) > log(previous_det) (-177.150604278029050 > -178.621381877070235). You may want to try with a higher value of support_fraction (current value: 0.501).\n",
            "  warnings.warn(\n",
            "/usr/local/lib/python3.11/dist-packages/sklearn/covariance/_robust_covariance.py:185: RuntimeWarning: Determinant has increased; this should not happen: log(det) > log(previous_det) (-126.580335815387116 > -127.190007245081532). You may want to try with a higher value of support_fraction (current value: 0.501).\n",
            "  warnings.warn(\n",
            "/usr/local/lib/python3.11/dist-packages/sklearn/covariance/_robust_covariance.py:185: RuntimeWarning: Determinant has increased; this should not happen: log(det) > log(previous_det) (-275.413456333837814 > -304.161509439631914). You may want to try with a higher value of support_fraction (current value: 0.501).\n",
            "  warnings.warn(\n",
            "/usr/local/lib/python3.11/dist-packages/sklearn/covariance/_robust_covariance.py:185: RuntimeWarning: Determinant has increased; this should not happen: log(det) > log(previous_det) (-255.009338389878252 > -285.326047013894538). You may want to try with a higher value of support_fraction (current value: 0.501).\n",
            "  warnings.warn(\n",
            "/usr/local/lib/python3.11/dist-packages/sklearn/covariance/_robust_covariance.py:185: RuntimeWarning: Determinant has increased; this should not happen: log(det) > log(previous_det) (-136.730742203883949 > -137.930951638663316). You may want to try with a higher value of support_fraction (current value: 0.501).\n",
            "  warnings.warn(\n",
            "/usr/local/lib/python3.11/dist-packages/sklearn/covariance/_robust_covariance.py:185: RuntimeWarning: Determinant has increased; this should not happen: log(det) > log(previous_det) (-195.900168561808727 > -209.250536977321246). You may want to try with a higher value of support_fraction (current value: 0.501).\n",
            "  warnings.warn(\n",
            "/usr/local/lib/python3.11/dist-packages/sklearn/covariance/_robust_covariance.py:185: RuntimeWarning: Determinant has increased; this should not happen: log(det) > log(previous_det) (-201.796232692990316 > -219.917518433002272). You may want to try with a higher value of support_fraction (current value: 0.501).\n",
            "  warnings.warn(\n",
            "/usr/local/lib/python3.11/dist-packages/sklearn/covariance/_robust_covariance.py:185: RuntimeWarning: Determinant has increased; this should not happen: log(det) > log(previous_det) (-241.145386078793450 > -264.953869643331529). You may want to try with a higher value of support_fraction (current value: 0.501).\n",
            "  warnings.warn(\n",
            "/usr/local/lib/python3.11/dist-packages/sklearn/covariance/_robust_covariance.py:185: RuntimeWarning: Determinant has increased; this should not happen: log(det) > log(previous_det) (-179.509063586225096 > -211.633222313575629). You may want to try with a higher value of support_fraction (current value: 0.501).\n",
            "  warnings.warn(\n",
            "/usr/local/lib/python3.11/dist-packages/sklearn/covariance/_robust_covariance.py:185: RuntimeWarning: Determinant has increased; this should not happen: log(det) > log(previous_det) (-276.073449942080856 > -299.828252955136236). You may want to try with a higher value of support_fraction (current value: 0.501).\n",
            "  warnings.warn(\n",
            "/usr/local/lib/python3.11/dist-packages/sklearn/covariance/_robust_covariance.py:185: RuntimeWarning: Determinant has increased; this should not happen: log(det) > log(previous_det) (-211.777149252622905 > -212.325767264528849). You may want to try with a higher value of support_fraction (current value: 0.501).\n",
            "  warnings.warn(\n",
            "/usr/local/lib/python3.11/dist-packages/sklearn/covariance/_robust_covariance.py:185: RuntimeWarning: Determinant has increased; this should not happen: log(det) > log(previous_det) (-220.139341196103004 > -281.002591678258455). You may want to try with a higher value of support_fraction (current value: 0.501).\n",
            "  warnings.warn(\n",
            "/usr/local/lib/python3.11/dist-packages/sklearn/covariance/_robust_covariance.py:185: RuntimeWarning: Determinant has increased; this should not happen: log(det) > log(previous_det) (-177.881257991081327 > -182.822179635038879). You may want to try with a higher value of support_fraction (current value: 0.501).\n",
            "  warnings.warn(\n",
            "/usr/local/lib/python3.11/dist-packages/sklearn/covariance/_robust_covariance.py:185: RuntimeWarning: Determinant has increased; this should not happen: log(det) > log(previous_det) (-209.105481611199480 > -212.563639402164199). You may want to try with a higher value of support_fraction (current value: 0.501).\n",
            "  warnings.warn(\n",
            "/usr/local/lib/python3.11/dist-packages/sklearn/covariance/_robust_covariance.py:185: RuntimeWarning: Determinant has increased; this should not happen: log(det) > log(previous_det) (-182.460814342335539 > -184.771331010538830). You may want to try with a higher value of support_fraction (current value: 0.501).\n",
            "  warnings.warn(\n",
            "/usr/local/lib/python3.11/dist-packages/sklearn/covariance/_robust_covariance.py:185: RuntimeWarning: Determinant has increased; this should not happen: log(det) > log(previous_det) (-179.848005452637295 > -183.173791234332953). You may want to try with a higher value of support_fraction (current value: 0.501).\n",
            "  warnings.warn(\n",
            "/usr/local/lib/python3.11/dist-packages/sklearn/covariance/_robust_covariance.py:185: RuntimeWarning: Determinant has increased; this should not happen: log(det) > log(previous_det) (-128.807112561240331 > -129.110045010278640). You may want to try with a higher value of support_fraction (current value: 0.501).\n",
            "  warnings.warn(\n",
            "/usr/local/lib/python3.11/dist-packages/sklearn/covariance/_robust_covariance.py:185: RuntimeWarning: Determinant has increased; this should not happen: log(det) > log(previous_det) (-110.372833566635990 > -110.876476224617164). You may want to try with a higher value of support_fraction (current value: 0.501).\n",
            "  warnings.warn(\n",
            "/usr/local/lib/python3.11/dist-packages/sklearn/covariance/_robust_covariance.py:185: RuntimeWarning: Determinant has increased; this should not happen: log(det) > log(previous_det) (-179.695294250863242 > -181.770277950395041). You may want to try with a higher value of support_fraction (current value: 0.501).\n",
            "  warnings.warn(\n",
            "/usr/local/lib/python3.11/dist-packages/sklearn/covariance/_robust_covariance.py:185: RuntimeWarning: Determinant has increased; this should not happen: log(det) > log(previous_det) (-181.558301303719134 > -183.034767224344563). You may want to try with a higher value of support_fraction (current value: 0.501).\n",
            "  warnings.warn(\n",
            "/usr/local/lib/python3.11/dist-packages/sklearn/covariance/_robust_covariance.py:185: RuntimeWarning: Determinant has increased; this should not happen: log(det) > log(previous_det) (-178.980438490175317 > -202.118836411878135). You may want to try with a higher value of support_fraction (current value: 0.501).\n",
            "  warnings.warn(\n",
            "/usr/local/lib/python3.11/dist-packages/sklearn/covariance/_robust_covariance.py:185: RuntimeWarning: Determinant has increased; this should not happen: log(det) > log(previous_det) (-181.210886983299673 > -182.461356253825556). You may want to try with a higher value of support_fraction (current value: 0.501).\n",
            "  warnings.warn(\n",
            "/usr/local/lib/python3.11/dist-packages/sklearn/covariance/_robust_covariance.py:185: RuntimeWarning: Determinant has increased; this should not happen: log(det) > log(previous_det) (-354.138876250047531 > -356.373196418451244). You may want to try with a higher value of support_fraction (current value: 0.501).\n",
            "  warnings.warn(\n",
            "/usr/local/lib/python3.11/dist-packages/sklearn/covariance/_robust_covariance.py:185: RuntimeWarning: Determinant has increased; this should not happen: log(det) > log(previous_det) (-245.183699611431933 > -266.758773058943802). You may want to try with a higher value of support_fraction (current value: 0.501).\n",
            "  warnings.warn(\n",
            "/usr/local/lib/python3.11/dist-packages/sklearn/covariance/_robust_covariance.py:185: RuntimeWarning: Determinant has increased; this should not happen: log(det) > log(previous_det) (-180.672408641280924 > -180.813876297154053). You may want to try with a higher value of support_fraction (current value: 0.501).\n",
            "  warnings.warn(\n",
            "/usr/local/lib/python3.11/dist-packages/sklearn/covariance/_robust_covariance.py:185: RuntimeWarning: Determinant has increased; this should not happen: log(det) > log(previous_det) (-296.623186690271837 > -355.701902159637484). You may want to try with a higher value of support_fraction (current value: 0.501).\n",
            "  warnings.warn(\n",
            "/usr/local/lib/python3.11/dist-packages/sklearn/covariance/_robust_covariance.py:185: RuntimeWarning: Determinant has increased; this should not happen: log(det) > log(previous_det) (-178.940805026754305 > -209.572314252851754). You may want to try with a higher value of support_fraction (current value: 0.501).\n",
            "  warnings.warn(\n",
            "/usr/local/lib/python3.11/dist-packages/sklearn/covariance/_robust_covariance.py:185: RuntimeWarning: Determinant has increased; this should not happen: log(det) > log(previous_det) (-255.502710585799036 > -282.121295844885367). You may want to try with a higher value of support_fraction (current value: 0.501).\n",
            "  warnings.warn(\n",
            "/usr/local/lib/python3.11/dist-packages/sklearn/covariance/_robust_covariance.py:185: RuntimeWarning: Determinant has increased; this should not happen: log(det) > log(previous_det) (-140.831668088142635 > -253.442006126320734). You may want to try with a higher value of support_fraction (current value: 0.501).\n",
            "  warnings.warn(\n",
            "/usr/local/lib/python3.11/dist-packages/sklearn/covariance/_robust_covariance.py:185: RuntimeWarning: Determinant has increased; this should not happen: log(det) > log(previous_det) (-175.199911152005598 > -226.627847320561358). You may want to try with a higher value of support_fraction (current value: 0.501).\n",
            "  warnings.warn(\n",
            "/usr/local/lib/python3.11/dist-packages/sklearn/covariance/_robust_covariance.py:185: RuntimeWarning: Determinant has increased; this should not happen: log(det) > log(previous_det) (-165.077357117311379 > -255.110106388477334). You may want to try with a higher value of support_fraction (current value: 0.501).\n",
            "  warnings.warn(\n",
            "/usr/local/lib/python3.11/dist-packages/sklearn/covariance/_robust_covariance.py:185: RuntimeWarning: Determinant has increased; this should not happen: log(det) > log(previous_det) (-178.892966174908395 > -210.875457291682210). You may want to try with a higher value of support_fraction (current value: 0.501).\n",
            "  warnings.warn(\n",
            "/usr/local/lib/python3.11/dist-packages/sklearn/covariance/_robust_covariance.py:185: RuntimeWarning: Determinant has increased; this should not happen: log(det) > log(previous_det) (-290.454841179146683 > -301.603061942761428). You may want to try with a higher value of support_fraction (current value: 0.501).\n",
            "  warnings.warn(\n",
            "/usr/local/lib/python3.11/dist-packages/sklearn/covariance/_robust_covariance.py:185: RuntimeWarning: Determinant has increased; this should not happen: log(det) > log(previous_det) (-159.095163886214465 > -260.790693024336633). You may want to try with a higher value of support_fraction (current value: 0.500).\n",
            "  warnings.warn(\n",
            "/usr/local/lib/python3.11/dist-packages/sklearn/covariance/_robust_covariance.py:185: RuntimeWarning: Determinant has increased; this should not happen: log(det) > log(previous_det) (-182.588783363870846 > -248.594468026924460). You may want to try with a higher value of support_fraction (current value: 0.500).\n",
            "  warnings.warn(\n"
          ]
        },
        {
          "output_type": "stream",
          "name": "stdout",
          "text": [
            "📌 Elliptic Envelope\n",
            "ROC AUC Score: 0.5025292244995648\n"
          ]
        }
      ]
    },
    {
      "source": [
        "from xgboost import XGBClassifier\n",
        "from sklearn.metrics import confusion_matrix, classification_report, roc_auc_score # Import necessary functions\n",
        "\n",
        "model14 = XGBClassifier(use_label_encoder=False, eval_metric='logloss')\n",
        "model14.fit(X_train_resampled, y_train_resampled)\n",
        "y_pred14 = model14.predict(X_test)\n",
        "y_proba14 = model14.predict_proba(X_test)[:, 1]\n",
        "\n",
        "print(\"📌 XGBoost\")\n",
        "print(confusion_matrix(y_test, y_pred14))\n",
        "print(classification_report(y_test, y_pred14, digits=4))\n",
        "print(\"ROC AUC:\", roc_auc_score(y_test, y_proba14))"
      ],
      "cell_type": "code",
      "metadata": {
        "colab": {
          "base_uri": "https://localhost:8080/"
        },
        "id": "dbj4KuHaU8AI",
        "outputId": "442aa58f-ccc4-4394-e89f-9947da7cc72b"
      },
      "execution_count": 10,
      "outputs": [
        {
          "output_type": "stream",
          "name": "stderr",
          "text": [
            "/usr/local/lib/python3.11/dist-packages/xgboost/core.py:158: UserWarning: [14:22:12] WARNING: /workspace/src/learner.cc:740: \n",
            "Parameters: { \"use_label_encoder\" } are not used.\n",
            "\n",
            "  warnings.warn(smsg, UserWarning)\n"
          ]
        },
        {
          "output_type": "stream",
          "name": "stdout",
          "text": [
            "📌 XGBoost\n",
            "[[9887    2]\n",
            " [   1   32]]\n",
            "              precision    recall  f1-score   support\n",
            "\n",
            "         0.0     0.9999    0.9998    0.9998      9889\n",
            "         1.0     0.9412    0.9697    0.9552        33\n",
            "\n",
            "    accuracy                         0.9997      9922\n",
            "   macro avg     0.9705    0.9847    0.9775      9922\n",
            "weighted avg     0.9997    0.9997    0.9997      9922\n",
            "\n",
            "ROC AUC: 0.9999816140983094\n"
          ]
        }
      ]
    },
    {
      "cell_type": "code",
      "source": [
        "from sklearn.neural_network import MLPClassifier\n",
        "\n",
        "model15 = MLPClassifier(hidden_layer_sizes=(50, 30), max_iter=1000)\n",
        "model15.fit(X_train_resampled, y_train_resampled)\n",
        "y_pred15 = model15.predict(X_test)\n",
        "y_proba15 = model15.predict_proba(X_test)[:, 1]\n",
        "\n",
        "print(\"📌 Neural Network (MLP)\")\n",
        "print(confusion_matrix(y_test, y_pred15))\n",
        "print(classification_report(y_test, y_pred15, digits=4))\n",
        "print(\"ROC AUC:\", roc_auc_score(y_test, y_proba15))\n"
      ],
      "metadata": {
        "colab": {
          "base_uri": "https://localhost:8080/"
        },
        "id": "GArPRfMKUpyt",
        "outputId": "9f4e77c4-3c2b-4b12-957e-67f8716fa52c"
      },
      "execution_count": 11,
      "outputs": [
        {
          "output_type": "stream",
          "name": "stdout",
          "text": [
            "📌 Neural Network (MLP)\n",
            "[[9825   64]\n",
            " [   1   32]]\n",
            "              precision    recall  f1-score   support\n",
            "\n",
            "         0.0     0.9999    0.9935    0.9967      9889\n",
            "         1.0     0.3333    0.9697    0.4961        33\n",
            "\n",
            "    accuracy                         0.9934      9922\n",
            "   macro avg     0.6666    0.9816    0.7464      9922\n",
            "weighted avg     0.9977    0.9934    0.9950      9922\n",
            "\n",
            "ROC AUC: 0.9991511842052847\n"
          ]
        }
      ]
    }
  ]
}