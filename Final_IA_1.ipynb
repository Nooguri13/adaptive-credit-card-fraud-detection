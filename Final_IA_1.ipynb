{
  "cells": [
    {
      "cell_type": "code",
      "execution_count": 3,
      "metadata": {
        "colab": {
          "base_uri": "https://localhost:8080/"
        },
        "id": "MlKXevjPstIM",
        "outputId": "2851ed47-f129-4446-99ca-79ee75c0dbfc"
      },
      "outputs": [
        {
          "output_type": "stream",
          "name": "stdout",
          "text": [
            "<class 'pandas.core.frame.DataFrame'>\n",
            "RangeIndex: 284807 entries, 0 to 284806\n",
            "Data columns (total 31 columns):\n",
            " #   Column  Non-Null Count   Dtype  \n",
            "---  ------  --------------   -----  \n",
            " 0   Time    284807 non-null  float64\n",
            " 1   V1      284807 non-null  float64\n",
            " 2   V2      284807 non-null  float64\n",
            " 3   V3      284807 non-null  float64\n",
            " 4   V4      284807 non-null  float64\n",
            " 5   V5      284807 non-null  float64\n",
            " 6   V6      284807 non-null  float64\n",
            " 7   V7      284807 non-null  float64\n",
            " 8   V8      284807 non-null  float64\n",
            " 9   V9      284807 non-null  float64\n",
            " 10  V10     284807 non-null  float64\n",
            " 11  V11     284807 non-null  float64\n",
            " 12  V12     284807 non-null  float64\n",
            " 13  V13     284807 non-null  float64\n",
            " 14  V14     284807 non-null  float64\n",
            " 15  V15     284807 non-null  float64\n",
            " 16  V16     284807 non-null  float64\n",
            " 17  V17     284807 non-null  float64\n",
            " 18  V18     284807 non-null  float64\n",
            " 19  V19     284807 non-null  float64\n",
            " 20  V20     284807 non-null  float64\n",
            " 21  V21     284807 non-null  float64\n",
            " 22  V22     284807 non-null  float64\n",
            " 23  V23     284807 non-null  float64\n",
            " 24  V24     284807 non-null  float64\n",
            " 25  V25     284807 non-null  float64\n",
            " 26  V26     284807 non-null  float64\n",
            " 27  V27     284807 non-null  float64\n",
            " 28  V28     284807 non-null  float64\n",
            " 29  Amount  284807 non-null  float64\n",
            " 30  Class   284807 non-null  int64  \n",
            "dtypes: float64(30), int64(1)\n",
            "memory usage: 67.4 MB\n",
            "None\n",
            "   Time        V1        V2        V3        V4        V5        V6        V7  \\\n",
            "0   0.0 -1.359807 -0.072781  2.536347  1.378155 -0.338321  0.462388  0.239599   \n",
            "1   0.0  1.191857  0.266151  0.166480  0.448154  0.060018 -0.082361 -0.078803   \n",
            "2   1.0 -1.358354 -1.340163  1.773209  0.379780 -0.503198  1.800499  0.791461   \n",
            "3   1.0 -0.966272 -0.185226  1.792993 -0.863291 -0.010309  1.247203  0.237609   \n",
            "4   2.0 -1.158233  0.877737  1.548718  0.403034 -0.407193  0.095921  0.592941   \n",
            "\n",
            "         V8        V9  ...       V21       V22       V23       V24       V25  \\\n",
            "0  0.098698  0.363787  ... -0.018307  0.277838 -0.110474  0.066928  0.128539   \n",
            "1  0.085102 -0.255425  ... -0.225775 -0.638672  0.101288 -0.339846  0.167170   \n",
            "2  0.247676 -1.514654  ...  0.247998  0.771679  0.909412 -0.689281 -0.327642   \n",
            "3  0.377436 -1.387024  ... -0.108300  0.005274 -0.190321 -1.175575  0.647376   \n",
            "4 -0.270533  0.817739  ... -0.009431  0.798278 -0.137458  0.141267 -0.206010   \n",
            "\n",
            "        V26       V27       V28  Amount  Class  \n",
            "0 -0.189115  0.133558 -0.021053  149.62      0  \n",
            "1  0.125895 -0.008983  0.014724    2.69      0  \n",
            "2 -0.139097 -0.055353 -0.059752  378.66      0  \n",
            "3 -0.221929  0.062723  0.061458  123.50      0  \n",
            "4  0.502292  0.219422  0.215153   69.99      0  \n",
            "\n",
            "[5 rows x 31 columns]\n",
            "                Time            V1            V2            V3            V4  \\\n",
            "count  284807.000000  2.848070e+05  2.848070e+05  2.848070e+05  2.848070e+05   \n",
            "mean    94813.859575  1.168375e-15  3.416908e-16 -1.379537e-15  2.074095e-15   \n",
            "std     47488.145955  1.958696e+00  1.651309e+00  1.516255e+00  1.415869e+00   \n",
            "min         0.000000 -5.640751e+01 -7.271573e+01 -4.832559e+01 -5.683171e+00   \n",
            "25%     54201.500000 -9.203734e-01 -5.985499e-01 -8.903648e-01 -8.486401e-01   \n",
            "50%     84692.000000  1.810880e-02  6.548556e-02  1.798463e-01 -1.984653e-02   \n",
            "75%    139320.500000  1.315642e+00  8.037239e-01  1.027196e+00  7.433413e-01   \n",
            "max    172792.000000  2.454930e+00  2.205773e+01  9.382558e+00  1.687534e+01   \n",
            "\n",
            "                 V5            V6            V7            V8            V9  \\\n",
            "count  2.848070e+05  2.848070e+05  2.848070e+05  2.848070e+05  2.848070e+05   \n",
            "mean   9.604066e-16  1.487313e-15 -5.556467e-16  1.213481e-16 -2.406331e-15   \n",
            "std    1.380247e+00  1.332271e+00  1.237094e+00  1.194353e+00  1.098632e+00   \n",
            "min   -1.137433e+02 -2.616051e+01 -4.355724e+01 -7.321672e+01 -1.343407e+01   \n",
            "25%   -6.915971e-01 -7.682956e-01 -5.540759e-01 -2.086297e-01 -6.430976e-01   \n",
            "50%   -5.433583e-02 -2.741871e-01  4.010308e-02  2.235804e-02 -5.142873e-02   \n",
            "75%    6.119264e-01  3.985649e-01  5.704361e-01  3.273459e-01  5.971390e-01   \n",
            "max    3.480167e+01  7.330163e+01  1.205895e+02  2.000721e+01  1.559499e+01   \n",
            "\n",
            "       ...           V21           V22           V23           V24  \\\n",
            "count  ...  2.848070e+05  2.848070e+05  2.848070e+05  2.848070e+05   \n",
            "mean   ...  1.654067e-16 -3.568593e-16  2.578648e-16  4.473266e-15   \n",
            "std    ...  7.345240e-01  7.257016e-01  6.244603e-01  6.056471e-01   \n",
            "min    ... -3.483038e+01 -1.093314e+01 -4.480774e+01 -2.836627e+00   \n",
            "25%    ... -2.283949e-01 -5.423504e-01 -1.618463e-01 -3.545861e-01   \n",
            "50%    ... -2.945017e-02  6.781943e-03 -1.119293e-02  4.097606e-02   \n",
            "75%    ...  1.863772e-01  5.285536e-01  1.476421e-01  4.395266e-01   \n",
            "max    ...  2.720284e+01  1.050309e+01  2.252841e+01  4.584549e+00   \n",
            "\n",
            "                V25           V26           V27           V28         Amount  \\\n",
            "count  2.848070e+05  2.848070e+05  2.848070e+05  2.848070e+05  284807.000000   \n",
            "mean   5.340915e-16  1.683437e-15 -3.660091e-16 -1.227390e-16      88.349619   \n",
            "std    5.212781e-01  4.822270e-01  4.036325e-01  3.300833e-01     250.120109   \n",
            "min   -1.029540e+01 -2.604551e+00 -2.256568e+01 -1.543008e+01       0.000000   \n",
            "25%   -3.171451e-01 -3.269839e-01 -7.083953e-02 -5.295979e-02       5.600000   \n",
            "50%    1.659350e-02 -5.213911e-02  1.342146e-03  1.124383e-02      22.000000   \n",
            "75%    3.507156e-01  2.409522e-01  9.104512e-02  7.827995e-02      77.165000   \n",
            "max    7.519589e+00  3.517346e+00  3.161220e+01  3.384781e+01   25691.160000   \n",
            "\n",
            "               Class  \n",
            "count  284807.000000  \n",
            "mean        0.001727  \n",
            "std         0.041527  \n",
            "min         0.000000  \n",
            "25%         0.000000  \n",
            "50%         0.000000  \n",
            "75%         0.000000  \n",
            "max         1.000000  \n",
            "\n",
            "[8 rows x 31 columns]\n"
          ]
        }
      ],
      "source": [
        "import pandas as pd\n",
        "\n",
        "# Step 1: Load the dataset\n",
        "file_path = 'creditcard.csv'\n",
        "df = pd.read_csv(file_path)\n",
        "\n",
        "# Step 2: Show basic info about the dataset\n",
        "print(df.info())\n",
        "print(df.head())\n",
        "print(df.describe())\n"
      ]
    },
    {
      "cell_type": "code",
      "execution_count": 4,
      "metadata": {
        "colab": {
          "base_uri": "https://localhost:8080/",
          "height": 1000
        },
        "id": "saXh4K-hvjfL",
        "outputId": "42559baa-75b0-4a33-be7c-1da07d3f57c3"
      },
      "outputs": [
        {
          "output_type": "stream",
          "name": "stdout",
          "text": [
            "Missing values:\n",
            " Time      0\n",
            "V1        0\n",
            "V2        0\n",
            "V3        0\n",
            "V4        0\n",
            "V5        0\n",
            "V6        0\n",
            "V7        0\n",
            "V8        0\n",
            "V9        0\n",
            "V10       0\n",
            "V11       0\n",
            "V12       0\n",
            "V13       0\n",
            "V14       0\n",
            "V15       0\n",
            "V16       0\n",
            "V17       0\n",
            "V18       0\n",
            "V19       0\n",
            "V20       0\n",
            "V21       0\n",
            "V22       0\n",
            "V23       0\n",
            "V24       0\n",
            "V25       0\n",
            "V26       0\n",
            "V27       0\n",
            "V28       0\n",
            "Amount    0\n",
            "Class     0\n",
            "dtype: int64\n",
            "Class distribution:\n",
            " Class\n",
            "0    284315\n",
            "1       492\n",
            "Name: count, dtype: int64\n"
          ]
        },
        {
          "output_type": "display_data",
          "data": {
            "text/plain": [
              "<Figure size 600x400 with 1 Axes>"
            ],
            "image/png": "[encoded data removed]"
          },
          "metadata": {}
        },
        {
          "output_type": "display_data",
          "data": {
            "text/plain": [
              "<Figure size 1200x1000 with 2 Axes>"
            ],
            "image/png": "[encoded data removed]"
          },
          "metadata": {}
        }
      ],
      "source": [
        "import matplotlib.pyplot as plt\n",
        "import seaborn as sns\n",
        "\n",
        "# Check for missing values\n",
        "print(\"Missing values:\\n\", df.isnull().sum())\n",
        "\n",
        "# Check class distribution\n",
        "print(\"Class distribution:\\n\", df['Class'].value_counts())\n",
        "\n",
        "# Plot class distribution\n",
        "plt.figure(figsize=(6,4))\n",
        "sns.countplot(x='Class', data=df)\n",
        "plt.title('Class Distribution (0 = Legit, 1 = Fraud)')\n",
        "plt.show()\n",
        "\n",
        "# Plot correlations (optional heavy computation)\n",
        "plt.figure(figsize=(12,10))\n",
        "sns.heatmap(df.corr(), cmap='coolwarm', linewidths=0.5)\n",
        "plt.title('Correlation Matrix')\n",
        "plt.show()\n"
      ]
    },
    {
      "cell_type": "code",
      "execution_count": 5,
      "metadata": {
        "colab": {
          "base_uri": "https://localhost:8080/"
        },
        "id": "YZNJjcbTvvkP",
        "outputId": "60c264a1-b56d-42cb-e1d5-49b3fc007e60"
      },
      "outputs": [
        {
          "output_type": "stream",
          "name": "stdout",
          "text": [
            "After SMOTE, class distribution:\n",
            " Class\n",
            "0    227451\n",
            "1    227451\n",
            "Name: count, dtype: int64\n"
          ]
        }
      ],
      "source": [
        "from imblearn.over_sampling import SMOTE\n",
        "from sklearn.model_selection import train_test_split\n",
        "\n",
        "# Step 1: Drop any rows with NaN values (just in case)\n",
        "df_cleaned = df.dropna()\n",
        "\n",
        "# Step 2: Separate features and target\n",
        "X = df_cleaned.drop('Class', axis=1)\n",
        "y = df_cleaned['Class']\n",
        "\n",
        "# Step 3: Train-test split\n",
        "X_train, X_test, y_train, y_test = train_test_split(X, y, test_size=0.2, random_state=42)\n",
        "\n",
        "# Step 4: SMOTE to balance the training set\n",
        "smote = SMOTE(random_state=42)\n",
        "X_train_resampled, y_train_resampled = smote.fit_resample(X_train, y_train)\n",
        "\n",
        "# Step 5: Confirm new balance\n",
        "print(\"After SMOTE, class distribution:\\n\", pd.Series(y_train_resampled).value_counts())\n"
      ]
    },
    {
      "cell_type": "code",
      "source": [
        "from sklearn.linear_model import LogisticRegression\n",
        "from sklearn.metrics import classification_report, confusion_matrix, roc_auc_score\n",
        "\n",
        "# Initialize the model\n",
        "log_reg = LogisticRegression(max_iter=1000)\n",
        "\n",
        "# Fit the model\n",
        "log_reg.fit(X_train_resampled, y_train_resampled)\n",
        "\n",
        "# Predict on the test set\n",
        "y_pred = log_reg.predict(X_test)\n",
        "y_proba = log_reg.predict_proba(X_test)[:, 1]\n",
        "\n",
        "# Evaluation metrics\n",
        "print(\"📌 Logistic Regression Evaluation:\")\n",
        "print(\"Confusion Matrix:\\n\", confusion_matrix(y_test, y_pred))\n",
        "print(\"Classification Report:\\n\", classification_report(y_test, y_pred, digits=4))\n",
        "print(\"ROC AUC Score:\", roc_auc_score(y_test, y_proba))\n"
      ],
      "metadata": {
        "colab": {
          "base_uri": "https://localhost:8080/"
        },
        "id": "zYkt377m8PLG",
        "outputId": "fc06fcec-f95a-489b-b388-6778f9ef02f6"
      },
      "execution_count": 7,
      "outputs": [
        {
          "output_type": "stream",
          "name": "stdout",
          "text": [
            "📌 Logistic Regression Evaluation:\n",
            "Confusion Matrix:\n",
            " [[21956   190]\n",
            " [    9    46]]\n",
            "Classification Report:\n",
            "               precision    recall  f1-score   support\n",
            "\n",
            "         0.0     0.9996    0.9914    0.9955     22146\n",
            "         1.0     0.1949    0.8364    0.3162        55\n",
            "\n",
            "    accuracy                         0.9910     22201\n",
            "   macro avg     0.5973    0.9139    0.6558     22201\n",
            "weighted avg     0.9976    0.9910    0.9938     22201\n",
            "\n",
            "ROC AUC Score: 0.938302422764628\n"
          ]
        },
        {
          "output_type": "stream",
          "name": "stderr",
          "text": [
            "/usr/local/lib/python3.11/dist-packages/sklearn/linear_model/_logistic.py:465: ConvergenceWarning: lbfgs failed to converge (status=1):\n",
            "STOP: TOTAL NO. of ITERATIONS REACHED LIMIT.\n",
            "\n",
            "Increase the number of iterations (max_iter) or scale the data as shown in:\n",
            "    https://scikit-learn.org/stable/modules/preprocessing.html\n",
            "Please also refer to the documentation for alternative solver options:\n",
            "    https://scikit-learn.org/stable/modules/linear_model.html#logistic-regression\n",
            "  n_iter_i = _check_optimize_result(\n"
          ]
        }
      ]
    },
    {
      "cell_type": "code",
      "source": [
        "from sklearn.linear_model import RidgeClassifier\n",
        "\n",
        "model2 = RidgeClassifier()\n",
        "model2.fit(X_train_resampled, y_train_resampled)\n",
        "y_pred2 = model2.predict(X_test)\n",
        "\n",
        "print(\"📌 Ridge Classifier\")\n",
        "print(confusion_matrix(y_test, y_pred2))\n",
        "print(classification_report(y_test, y_pred2, digits=4))\n"
      ],
      "metadata": {
        "colab": {
          "base_uri": "https://localhost:8080/"
        },
        "id": "zgD6VvWQ8RBY",
        "outputId": "ee8c50d0-ab43-4e99-e076-9ce6db440231"
      },
      "execution_count": 8,
      "outputs": [
        {
          "output_type": "stream",
          "name": "stdout",
          "text": [
            "📌 Ridge Classifier\n",
            "[[21860   286]\n",
            " [   12    43]]\n",
            "              precision    recall  f1-score   support\n",
            "\n",
            "         0.0     0.9995    0.9871    0.9932     22146\n",
            "         1.0     0.1307    0.7818    0.2240        55\n",
            "\n",
            "    accuracy                         0.9866     22201\n",
            "   macro avg     0.5651    0.8845    0.6086     22201\n",
            "weighted avg     0.9973    0.9866    0.9913     22201\n",
            "\n"
          ]
        }
      ]
    },
    {
      "cell_type": "code",
      "source": [
        "from sklearn.linear_model import PassiveAggressiveClassifier\n",
        "\n",
        "model3 = PassiveAggressiveClassifier(max_iter=1000)\n",
        "model3.fit(X_train_resampled, y_train_resampled)\n",
        "y_pred3 = model3.predict(X_test)\n",
        "\n",
        "print(\"📌 Passive Aggressive\")\n",
        "print(confusion_matrix(y_test, y_pred3))\n",
        "print(classification_report(y_test, y_pred3, digits=4))\n"
      ],
      "metadata": {
        "colab": {
          "base_uri": "https://localhost:8080/"
        },
        "id": "XMMg8N-n8eAm",
        "outputId": "6467772d-c100-41ff-ec93-ffbff623c0d6"
      },
      "execution_count": 9,
      "outputs": [
        {
          "output_type": "stream",
          "name": "stdout",
          "text": [
            "📌 Passive Aggressive\n",
            "[[19068  3078]\n",
            " [    9    46]]\n",
            "              precision    recall  f1-score   support\n",
            "\n",
            "         0.0     0.9995    0.8610    0.9251     22146\n",
            "         1.0     0.0147    0.8364    0.0289        55\n",
            "\n",
            "    accuracy                         0.8610     22201\n",
            "   macro avg     0.5071    0.8487    0.4770     22201\n",
            "weighted avg     0.9971    0.8610    0.9229     22201\n",
            "\n"
          ]
        }
      ]
    },
    {
      "cell_type": "code",
      "source": [
        "from sklearn.ensemble import RandomForestClassifier\n",
        "\n",
        "model4 = RandomForestClassifier(n_estimators=100)\n",
        "model4.fit(X_train_resampled, y_train_resampled)\n",
        "y_pred4 = model4.predict(X_test)\n",
        "y_proba4 = model4.predict_proba(X_test)[:, 1]\n",
        "\n",
        "print(\"📌 Random Forest\")\n",
        "print(confusion_matrix(y_test, y_pred4))\n",
        "print(classification_report(y_test, y_pred4, digits=4))\n",
        "print(\"ROC AUC:\", roc_auc_score(y_test, y_proba4))\n"
      ],
      "metadata": {
        "colab": {
          "base_uri": "https://localhost:8080/"
        },
        "id": "8yiPduV98hkk",
        "outputId": "61d624c3-ddf0-4303-d6fe-cbe1ac98343f"
      },
      "execution_count": 10,
      "outputs": [
        {
          "output_type": "stream",
          "name": "stdout",
          "text": [
            "📌 Random Forest\n",
            "[[22146     0]\n",
            " [   12    43]]\n",
            "              precision    recall  f1-score   support\n",
            "\n",
            "         0.0     0.9995    1.0000    0.9997     22146\n",
            "         1.0     1.0000    0.7818    0.8776        55\n",
            "\n",
            "    accuracy                         0.9995     22201\n",
            "   macro avg     0.9997    0.8909    0.9386     22201\n",
            "weighted avg     0.9995    0.9995    0.9994     22201\n",
            "\n",
            "ROC AUC: 0.9573159117591521\n"
          ]
        }
      ]
    },
    {
      "cell_type": "code",
      "source": [
        "from sklearn.ensemble import GradientBoostingClassifier\n",
        "\n",
        "model5 = GradientBoostingClassifier()\n",
        "model5.fit(X_train_resampled, y_train_resampled)\n",
        "y_pred5 = model5.predict(X_test)\n",
        "y_proba5 = model5.predict_proba(X_test)[:, 1]\n",
        "\n",
        "print(\"📌 Gradient Boosting\")\n",
        "print(confusion_matrix(y_test, y_pred5))\n",
        "print(classification_report(y_test, y_pred5, digits=4))\n",
        "print(\"ROC AUC:\", roc_auc_score(y_test, y_proba5))\n"
      ],
      "metadata": {
        "colab": {
          "base_uri": "https://localhost:8080/"
        },
        "id": "AXQ1y_Hc8lP2",
        "outputId": "4e543750-c21b-4eb2-bff9-012f7688d82a"
      },
      "execution_count": 11,
      "outputs": [
        {
          "output_type": "stream",
          "name": "stdout",
          "text": [
            "📌 Gradient Boosting\n",
            "[[22112    34]\n",
            " [   10    45]]\n",
            "              precision    recall  f1-score   support\n",
            "\n",
            "         0.0     0.9995    0.9985    0.9990     22146\n",
            "         1.0     0.5696    0.8182    0.6716        55\n",
            "\n",
            "    accuracy                         0.9980     22201\n",
            "   macro avg     0.7846    0.9083    0.8353     22201\n",
            "weighted avg     0.9985    0.9980    0.9982     22201\n",
            "\n",
            "ROC AUC: 0.9644130275937374\n"
          ]
        }
      ]
    },
    {
      "cell_type": "code",
      "source": [
        "from sklearn.ensemble import AdaBoostClassifier\n",
        "\n",
        "model6 = AdaBoostClassifier()\n",
        "model6.fit(X_train_resampled, y_train_resampled)\n",
        "y_pred6 = model6.predict(X_test)\n",
        "y_proba6 = model6.predict_proba(X_test)[:, 1]\n",
        "\n",
        "print(\"📌 AdaBoost\")\n",
        "print(confusion_matrix(y_test, y_pred6))\n",
        "print(classification_report(y_test, y_pred6, digits=4))\n",
        "print(\"ROC AUC:\", roc_auc_score(y_test, y_proba6))\n"
      ],
      "metadata": {
        "colab": {
          "base_uri": "https://localhost:8080/"
        },
        "id": "wy1yOsiL9UqV",
        "outputId": "183580b4-e0e2-4531-f8c8-fc3e75b184bb"
      },
      "execution_count": 12,
      "outputs": [
        {
          "output_type": "stream",
          "name": "stdout",
          "text": [
            "📌 AdaBoost\n",
            "[[21920   226]\n",
            " [    8    47]]\n",
            "              precision    recall  f1-score   support\n",
            "\n",
            "         0.0     0.9996    0.9898    0.9947     22146\n",
            "         1.0     0.1722    0.8545    0.2866        55\n",
            "\n",
            "    accuracy                         0.9895     22201\n",
            "   macro avg     0.5859    0.9222    0.6406     22201\n",
            "weighted avg     0.9976    0.9895    0.9929     22201\n",
            "\n",
            "ROC AUC: 0.9447694227564182\n"
          ]
        }
      ]
    },
    {
      "cell_type": "code",
      "source": [
        "from sklearn.ensemble import BaggingClassifier\n",
        "\n",
        "model7 = BaggingClassifier()\n",
        "model7.fit(X_train_resampled, y_train_resampled)\n",
        "y_pred7 = model7.predict(X_test)\n",
        "y_proba7 = model7.predict_proba(X_test)[:, 1]\n",
        "\n",
        "print(\"📌 Bagging Classifier\")\n",
        "print(confusion_matrix(y_test, y_pred7))\n",
        "print(classification_report(y_test, y_pred7, digits=4))\n",
        "print(\"ROC AUC:\", roc_auc_score(y_test, y_proba7))\n"
      ],
      "metadata": {
        "colab": {
          "base_uri": "https://localhost:8080/"
        },
        "id": "s2dCAfmQ9Ukf",
        "outputId": "987ebce0-491e-4a49-837b-6def305db8d2"
      },
      "execution_count": 13,
      "outputs": [
        {
          "output_type": "stream",
          "name": "stdout",
          "text": [
            "📌 Bagging Classifier\n",
            "[[22139     7]\n",
            " [   14    41]]\n",
            "              precision    recall  f1-score   support\n",
            "\n",
            "         0.0     0.9994    0.9997    0.9995     22146\n",
            "         1.0     0.8542    0.7455    0.7961        55\n",
            "\n",
            "    accuracy                         0.9991     22201\n",
            "   macro avg     0.9268    0.8726    0.8978     22201\n",
            "weighted avg     0.9990    0.9991    0.9990     22201\n",
            "\n",
            "ROC AUC: 0.898816531612522\n"
          ]
        }
      ]
    },
    {
      "cell_type": "code",
      "source": [
        "from sklearn.ensemble import ExtraTreesClassifier\n",
        "\n",
        "model8 = ExtraTreesClassifier()\n",
        "model8.fit(X_train_resampled, y_train_resampled)\n",
        "y_pred8 = model8.predict(X_test)\n",
        "y_proba8 = model8.predict_proba(X_test)[:, 1]\n",
        "\n",
        "print(\"📌 Extra Trees\")\n",
        "print(confusion_matrix(y_test, y_pred8))\n",
        "print(classification_report(y_test, y_pred8, digits=4))\n",
        "print(\"ROC AUC:\", roc_auc_score(y_test, y_proba8))\n"
      ],
      "metadata": {
        "colab": {
          "base_uri": "https://localhost:8080/"
        },
        "id": "c0eRYZiF9Zdd",
        "outputId": "03da2116-4789-49c0-d33d-ca194c0b0362"
      },
      "execution_count": 14,
      "outputs": [
        {
          "output_type": "stream",
          "name": "stdout",
          "text": [
            "📌 Extra Trees\n",
            "[[22145     1]\n",
            " [   13    42]]\n",
            "              precision    recall  f1-score   support\n",
            "\n",
            "         0.0     0.9994    1.0000    0.9997     22146\n",
            "         1.0     0.9767    0.7636    0.8571        55\n",
            "\n",
            "    accuracy                         0.9994     22201\n",
            "   macro avg     0.9881    0.8818    0.9284     22201\n",
            "weighted avg     0.9994    0.9994    0.9993     22201\n",
            "\n",
            "ROC AUC: 0.9649700746287035\n"
          ]
        }
      ]
    },
    {
      "cell_type": "code",
      "source": [
        "from sklearn.naive_bayes import GaussianNB\n",
        "\n",
        "model9 = GaussianNB()\n",
        "model9.fit(X_train_resampled, y_train_resampled)\n",
        "y_pred9 = model9.predict(X_test)\n",
        "y_proba9 = model9.predict_proba(X_test)[:, 1]\n",
        "\n",
        "print(\"📌 Gaussian Naive Bayes\")\n",
        "print(confusion_matrix(y_test, y_pred9))\n",
        "print(classification_report(y_test, y_pred9, digits=4))\n",
        "print(\"ROC AUC:\", roc_auc_score(y_test, y_proba9))\n"
      ],
      "metadata": {
        "colab": {
          "base_uri": "https://localhost:8080/"
        },
        "id": "8hIthgt49aI6",
        "outputId": "71f944cb-08be-4c23-f888-d888a8db3e32"
      },
      "execution_count": 15,
      "outputs": [
        {
          "output_type": "stream",
          "name": "stdout",
          "text": [
            "📌 Gaussian Naive Bayes\n",
            "[[21835   311]\n",
            " [   11    44]]\n",
            "              precision    recall  f1-score   support\n",
            "\n",
            "         0.0     0.9995    0.9860    0.9927     22146\n",
            "         1.0     0.1239    0.8000    0.2146        55\n",
            "\n",
            "    accuracy                         0.9855     22201\n",
            "   macro avg     0.5617    0.8930    0.6037     22201\n",
            "weighted avg     0.9973    0.9855    0.9908     22201\n",
            "\n",
            "ROC AUC: 0.9527175028529674\n"
          ]
        }
      ]
    },
    {
      "cell_type": "code",
      "source": [
        "from sklearn.svm import LinearSVC\n",
        "from sklearn.metrics import confusion_matrix, classification_report # Import necessary modules\n",
        "\n",
        "model11 = LinearSVC(max_iter=1000)\n",
        "model11.fit(X_train_resampled, y_train_resampled)\n",
        "y_pred11 = model11.predict(X_test)\n",
        "\n",
        "print(\"📌 Linear SVC\")\n",
        "print(confusion_matrix(y_test, y_pred11))\n",
        "print(classification_report(y_test, y_pred11, digits=4))"
      ],
      "metadata": {
        "colab": {
          "base_uri": "https://localhost:8080/"
        },
        "id": "8LMKZmjm9glv",
        "outputId": "02d1915b-4519-4af4-bbad-c982d4fe6d59"
      },
      "execution_count": 7,
      "outputs": [
        {
          "output_type": "stream",
          "name": "stdout",
          "text": [
            "📌 Linear SVC\n",
            "[[55917   947]\n",
            " [   11    87]]\n",
            "              precision    recall  f1-score   support\n",
            "\n",
            "           0     0.9998    0.9833    0.9915     56864\n",
            "           1     0.0841    0.8878    0.1537        98\n",
            "\n",
            "    accuracy                         0.9832     56962\n",
            "   macro avg     0.5420    0.9356    0.5726     56962\n",
            "weighted avg     0.9982    0.9832    0.9901     56962\n",
            "\n"
          ]
        }
      ]
    },
    {
      "cell_type": "code",
      "source": [
        "from sklearn.neighbors import KNeighborsClassifier\n",
        "from sklearn.metrics import roc_auc_score # Import roc_auc_score\n",
        "\n",
        "model12 = KNeighborsClassifier()\n",
        "model12.fit(X_train_resampled, y_train_resampled)\n",
        "y_pred12 = model12.predict(X_test)\n",
        "y_proba12 = model12.predict_proba(X_test)[:, 1]\n",
        "\n",
        "print(\"📌 K-Nearest Neighbors\")\n",
        "print(confusion_matrix(y_test, y_pred12))\n",
        "print(classification_report(y_test, y_pred12, digits=4))\n",
        "print(\"ROC AUC:\", roc_auc_score(y_test, y_proba12))"
      ],
      "metadata": {
        "colab": {
          "base_uri": "https://localhost:8080/"
        },
        "id": "UiMm0ffP9hRb",
        "outputId": "ef63c734-477f-48ea-c790-be41257ede54"
      },
      "execution_count": 10,
      "outputs": [
        {
          "output_type": "stream",
          "name": "stdout",
          "text": [
            "📌 K-Nearest Neighbors\n",
            "[[54030  2834]\n",
            " [   43    55]]\n",
            "              precision    recall  f1-score   support\n",
            "\n",
            "           0     0.9992    0.9502    0.9741     56864\n",
            "           1     0.0190    0.5612    0.0368        98\n",
            "\n",
            "    accuracy                         0.9495     56962\n",
            "   macro avg     0.5091    0.7557    0.5054     56962\n",
            "weighted avg     0.9975    0.9495    0.9725     56962\n",
            "\n",
            "ROC AUC: 0.7680932952809711\n"
          ]
        }
      ]
    },
    {
      "cell_type": "code",
      "source": [
        "from sklearn.tree import DecisionTreeClassifier\n",
        "from sklearn.metrics import roc_auc_score # Import roc_auc_score\n",
        "\n",
        "model13 = DecisionTreeClassifier()\n",
        "model13.fit(X_train_resampled, y_train_resampled)\n",
        "y_pred13 = model13.predict(X_test)\n",
        "y_proba13 = model13.predict_proba(X_test)[:, 1]\n",
        "\n",
        "print(\"📌 Decision Tree\")\n",
        "print(confusion_matrix(y_test, y_pred13))\n",
        "print(classification_report(y_test, y_pred13, digits=4))\n",
        "print(\"ROC AUC:\", roc_auc_score(y_test, y_proba13))"
      ],
      "metadata": {
        "colab": {
          "base_uri": "https://localhost:8080/"
        },
        "id": "Pjl17QDP9jS4",
        "outputId": "647ee445-c123-475d-8715-000e60b3ebbc"
      },
      "execution_count": 11,
      "outputs": [
        {
          "output_type": "stream",
          "name": "stdout",
          "text": [
            "📌 Decision Tree\n",
            "[[56765    99]\n",
            " [   23    75]]\n",
            "              precision    recall  f1-score   support\n",
            "\n",
            "           0     0.9996    0.9983    0.9989     56864\n",
            "           1     0.4310    0.7653    0.5515        98\n",
            "\n",
            "    accuracy                         0.9979     56962\n",
            "   macro avg     0.7153    0.8818    0.7752     56962\n",
            "weighted avg     0.9986    0.9979    0.9982     56962\n",
            "\n",
            "ROC AUC: 0.8817825631941015\n"
          ]
        }
      ]
    }
  ],
  "metadata": {
    "colab": {
      "provenance": []
    },
    "kernelspec": {
      "display_name": "Python 3",
      "name": "python3"
    },
    "language_info": {
      "name": "python"
    }
  },
  "nbformat": 4,
  "nbformat_minor": 0
}